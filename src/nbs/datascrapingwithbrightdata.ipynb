{
 "cells": [
  {
   "cell_type": "code",
   "execution_count": 10,
   "id": "4974b2c1-8b83-4de3-8ac5-8f79c6738a77",
   "metadata": {},
   "outputs": [],
   "source": [
    "import sys\n",
    "sys.path.insert(0, \"/Users/vivek/Desktop/Dev/django_celery_scraping/src\")"
   ]
  },
  {
   "cell_type": "code",
   "execution_count": 11,
   "id": "d7c7e8c2-7f40-467b-a304-4cb00d63ac6d",
   "metadata": {},
   "outputs": [],
   "source": [
    "import setup\n",
    "setup.init_django(project_name=\"scrape\")"
   ]
  },
  {
   "cell_type": "code",
   "execution_count": 12,
   "id": "9220435b-dd69-4fef-a2a8-26dfbdb3c95d",
   "metadata": {},
   "outputs": [
    {
     "name": "stdout",
     "output_type": "stream",
     "text": [
      "/Users/vivek/Desktop/Dev/django_celery_scraping/src/nbs\n"
     ]
    }
   ],
   "source": [
    "!pwd"
   ]
  },
  {
   "cell_type": "code",
   "execution_count": null,
   "id": "3e435f32-43e9-420e-9f86-17325ae649c8",
   "metadata": {},
   "outputs": [],
   "source": []
  },
  {
   "cell_type": "code",
   "execution_count": 13,
   "id": "9af1f211-2a15-4450-a7f0-3a10e4ef921d",
   "metadata": {},
   "outputs": [],
   "source": [
    "url='https://www.amazon.in/BenQ-MA320U-3840X2160-Brightness-Adjustable/dp/B0DF9ZLFTN/?_encoding=UTF8&pd_rd_w=1HAM0&content-id=amzn1.sym.509965a2-791b-4055-b876-943397d37ed3%3Aamzn1.symc.fc11ad14-99c1-406b-aa77-051d0ba1aade&pf_rd_p=509965a2-791b-4055-b876-943397d37ed3&pf_rd_r=QWHY53AQQ40DJZBGY2V5&pd_rd_wg=7iD1s&pd_rd_r=0b94d6be-b608-4114-8d07-f8c61320c5eb&ref_=pd_hp_d_atf_ci_mcx_mr_ca_hp_atf_d&th=1'"
   ]
  },
  {
   "cell_type": "code",
   "execution_count": 14,
   "id": "4d922b02-14f6-43bf-a719-19b65f9a61ae",
   "metadata": {},
   "outputs": [],
   "source": [
    "import helpers"
   ]
  },
  {
   "cell_type": "code",
   "execution_count": 15,
   "id": "29a33ff2-213f-46e2-a75f-cb1ae8554183",
   "metadata": {},
   "outputs": [
    {
     "name": "stdout",
     "output_type": "stream",
     "text": [
      "Connecting to Scraping Browser...\n"
     ]
    },
    {
     "ename": "WebDriverException",
     "evalue": "Message: Account is suspended\n",
     "output_type": "error",
     "traceback": [
      "\u001b[31m---------------------------------------------------------------------------\u001b[39m",
      "\u001b[31mWebDriverException\u001b[39m                        Traceback (most recent call last)",
      "\u001b[36mCell\u001b[39m\u001b[36m \u001b[39m\u001b[32mIn[15]\u001b[39m\u001b[32m, line 1\u001b[39m\n\u001b[32m----> \u001b[39m\u001b[32m1\u001b[39m html=\u001b[43mhelpers\u001b[49m\u001b[43m.\u001b[49m\u001b[43mscrape\u001b[49m\u001b[43m(\u001b[49m\u001b[43murl\u001b[49m\u001b[43m=\u001b[49m\u001b[43murl\u001b[49m\u001b[43m)\u001b[49m\n",
      "\u001b[36mFile \u001b[39m\u001b[32m~/Desktop/Dev/django_celery_scraping/src/helpers/brightdata.py:14\u001b[39m, in \u001b[36mscrape\u001b[39m\u001b[34m(url)\u001b[39m\n\u001b[32m     12\u001b[39m sbr_connection = ChromiumRemoteConnection(SBR_WEBDRIVER, \u001b[33m\"\u001b[39m\u001b[33mgoog\u001b[39m\u001b[33m\"\u001b[39m, \u001b[33m\"\u001b[39m\u001b[33mchrome\u001b[39m\u001b[33m\"\u001b[39m)\n\u001b[32m     13\u001b[39m html = \u001b[33m\"\u001b[39m\u001b[33m\"\u001b[39m\n\u001b[32m---> \u001b[39m\u001b[32m14\u001b[39m \u001b[38;5;28;01mwith\u001b[39;00m \u001b[43mRemote\u001b[49m\u001b[43m(\u001b[49m\u001b[43msbr_connection\u001b[49m\u001b[43m,\u001b[49m\u001b[43m \u001b[49m\u001b[43moptions\u001b[49m\u001b[43m=\u001b[49m\u001b[43mChromeOptions\u001b[49m\u001b[43m(\u001b[49m\u001b[43m)\u001b[49m\u001b[43m)\u001b[49m \u001b[38;5;28;01mas\u001b[39;00m driver:\n\u001b[32m     15\u001b[39m     \u001b[38;5;28mprint\u001b[39m(\u001b[33mf\u001b[39m\u001b[33m\"\u001b[39m\u001b[33mConnected! Navigating...\u001b[39m\u001b[38;5;132;01m{\u001b[39;00murl\u001b[38;5;132;01m}\u001b[39;00m\u001b[33m\"\u001b[39m)\n\u001b[32m     16\u001b[39m     driver.get(url)  \u001b[38;5;66;03m# use this, or replace with URL of your choice\u001b[39;00m\n",
      "\u001b[36mFile \u001b[39m\u001b[32m~/Desktop/project/python/python_microservices/python/src/venv/lib/python3.11/site-packages/selenium/webdriver/remote/webdriver.py:250\u001b[39m, in \u001b[36mWebDriver.__init__\u001b[39m\u001b[34m(self, command_executor, keep_alive, file_detector, options, locator_converter, web_element_cls, client_config)\u001b[39m\n\u001b[32m    248\u001b[39m \u001b[38;5;28mself\u001b[39m._authenticator_id = \u001b[38;5;28;01mNone\u001b[39;00m\n\u001b[32m    249\u001b[39m \u001b[38;5;28mself\u001b[39m.start_client()\n\u001b[32m--> \u001b[39m\u001b[32m250\u001b[39m \u001b[38;5;28;43mself\u001b[39;49m\u001b[43m.\u001b[49m\u001b[43mstart_session\u001b[49m\u001b[43m(\u001b[49m\u001b[43mcapabilities\u001b[49m\u001b[43m)\u001b[49m\n\u001b[32m    251\u001b[39m \u001b[38;5;28mself\u001b[39m._fedcm = FedCM(\u001b[38;5;28mself\u001b[39m)\n\u001b[32m    253\u001b[39m \u001b[38;5;28mself\u001b[39m._websocket_connection = \u001b[38;5;28;01mNone\u001b[39;00m\n",
      "\u001b[36mFile \u001b[39m\u001b[32m~/Desktop/project/python/python_microservices/python/src/venv/lib/python3.11/site-packages/selenium/webdriver/remote/webdriver.py:342\u001b[39m, in \u001b[36mWebDriver.start_session\u001b[39m\u001b[34m(self, capabilities)\u001b[39m\n\u001b[32m    333\u001b[39m \u001b[38;5;250m\u001b[39m\u001b[33;03m\"\"\"Creates a new session with the desired capabilities.\u001b[39;00m\n\u001b[32m    334\u001b[39m \n\u001b[32m    335\u001b[39m \u001b[33;03mParameters:\u001b[39;00m\n\u001b[32m   (...)\u001b[39m\u001b[32m    338\u001b[39m \u001b[33;03m    - A capabilities dict to start the session with.\u001b[39;00m\n\u001b[32m    339\u001b[39m \u001b[33;03m\"\"\"\u001b[39;00m\n\u001b[32m    341\u001b[39m caps = _create_caps(capabilities)\n\u001b[32m--> \u001b[39m\u001b[32m342\u001b[39m response = \u001b[38;5;28;43mself\u001b[39;49m\u001b[43m.\u001b[49m\u001b[43mexecute\u001b[49m\u001b[43m(\u001b[49m\u001b[43mCommand\u001b[49m\u001b[43m.\u001b[49m\u001b[43mNEW_SESSION\u001b[49m\u001b[43m,\u001b[49m\u001b[43m \u001b[49m\u001b[43mcaps\u001b[49m\u001b[43m)\u001b[49m[\u001b[33m\"\u001b[39m\u001b[33mvalue\u001b[39m\u001b[33m\"\u001b[39m]\n\u001b[32m    343\u001b[39m \u001b[38;5;28mself\u001b[39m.session_id = response.get(\u001b[33m\"\u001b[39m\u001b[33msessionId\u001b[39m\u001b[33m\"\u001b[39m)\n\u001b[32m    344\u001b[39m \u001b[38;5;28mself\u001b[39m.caps = response.get(\u001b[33m\"\u001b[39m\u001b[33mcapabilities\u001b[39m\u001b[33m\"\u001b[39m)\n",
      "\u001b[36mFile \u001b[39m\u001b[32m~/Desktop/project/python/python_microservices/python/src/venv/lib/python3.11/site-packages/selenium/webdriver/remote/webdriver.py:429\u001b[39m, in \u001b[36mWebDriver.execute\u001b[39m\u001b[34m(self, driver_command, params)\u001b[39m\n\u001b[32m    427\u001b[39m response = \u001b[38;5;28mself\u001b[39m.command_executor.execute(driver_command, params)\n\u001b[32m    428\u001b[39m \u001b[38;5;28;01mif\u001b[39;00m response:\n\u001b[32m--> \u001b[39m\u001b[32m429\u001b[39m     \u001b[38;5;28;43mself\u001b[39;49m\u001b[43m.\u001b[49m\u001b[43merror_handler\u001b[49m\u001b[43m.\u001b[49m\u001b[43mcheck_response\u001b[49m\u001b[43m(\u001b[49m\u001b[43mresponse\u001b[49m\u001b[43m)\u001b[49m\n\u001b[32m    430\u001b[39m     response[\u001b[33m\"\u001b[39m\u001b[33mvalue\u001b[39m\u001b[33m\"\u001b[39m] = \u001b[38;5;28mself\u001b[39m._unwrap_value(response.get(\u001b[33m\"\u001b[39m\u001b[33mvalue\u001b[39m\u001b[33m\"\u001b[39m, \u001b[38;5;28;01mNone\u001b[39;00m))\n\u001b[32m    431\u001b[39m     \u001b[38;5;28;01mreturn\u001b[39;00m response\n",
      "\u001b[36mFile \u001b[39m\u001b[32m~/Desktop/project/python/python_microservices/python/src/venv/lib/python3.11/site-packages/selenium/webdriver/remote/errorhandler.py:232\u001b[39m, in \u001b[36mErrorHandler.check_response\u001b[39m\u001b[34m(self, response)\u001b[39m\n\u001b[32m    230\u001b[39m         alert_text = value[\u001b[33m\"\u001b[39m\u001b[33malert\u001b[39m\u001b[33m\"\u001b[39m].get(\u001b[33m\"\u001b[39m\u001b[33mtext\u001b[39m\u001b[33m\"\u001b[39m)\n\u001b[32m    231\u001b[39m     \u001b[38;5;28;01mraise\u001b[39;00m exception_class(message, screen, stacktrace, alert_text)  \u001b[38;5;66;03m# type: ignore[call-arg]  # mypy is not smart enough here\u001b[39;00m\n\u001b[32m--> \u001b[39m\u001b[32m232\u001b[39m \u001b[38;5;28;01mraise\u001b[39;00m exception_class(message, screen, stacktrace)\n",
      "\u001b[31mWebDriverException\u001b[39m: Message: Account is suspended\n"
     ]
    }
   ],
   "source": [
    "html=helpers.scrape(url=url)"
   ]
  },
  {
   "cell_type": "code",
   "execution_count": 7,
   "id": "12ee505d-af30-4e64-bf21-fc3b6af18abc",
   "metadata": {},
   "outputs": [],
   "source": [
    "from bs4 import BeautifulSoup"
   ]
  },
  {
   "cell_type": "code",
   "execution_count": 8,
   "id": "4a9a0fd3-2abe-49c4-91a2-623bc13919fb",
   "metadata": {},
   "outputs": [],
   "source": [
    "soup=BeautifulSoup(html)"
   ]
  },
  {
   "cell_type": "markdown",
   "id": "2d1fa377-bab8-42df-9196-ddd4f501cc77",
   "metadata": {},
   "source": [
    "\n",
    "```\n",
    "<span id=\"productTitle\" class=\"a-size-large product-title-word-break\">        BenQ MA320U 32 Inches 4K 3840X2160 Monitor for MacBook Pro/Air,Dual USB-C,90W Power Delivery,Mac Color Match,USB Hub,Brightness &amp; Volume Control On Mac,Height &amp; Tilt Adjustable Stand,P3 Color Gamut       </span>\n",
    "\n",
    "```"
   ]
  },
  {
   "cell_type": "code",
   "execution_count": 9,
   "id": "0cec5108-5bc0-44f5-a112-bcf36c4a9d3f",
   "metadata": {},
   "outputs": [
    {
     "data": {
      "text/plain": [
       "'BenQ MA320U 32 Inches 4K 3840X2160 Monitor for MacBook Pro/Air,Dual USB-C,90W Power Delivery,Mac Color Match,USB Hub,Brightness & Volume Control On Mac,Height & Tilt Adjustable Stand,P3 Color Gamut'"
      ]
     },
     "execution_count": 9,
     "metadata": {},
     "output_type": "execute_result"
    }
   ],
   "source": [
    "productTitle=soup.find('span',id='productTitle')\n",
    "productTitleText=productTitle.text.strip()\n",
    "productTitleText"
   ]
  },
  {
   "cell_type": "markdown",
   "id": "d81d41a5-3f9b-46b1-b766-e5805d1090e7",
   "metadata": {},
   "source": [
    "```<span class=\"a-price-whole\">52,500<span class=\"a-price-decimal\">.</span></span>```"
   ]
  },
  {
   "cell_type": "markdown",
   "id": "183f3b14-2cb2-4e80-b699-e83e507e5ef7",
   "metadata": {},
   "source": [
    "```<span class=\"a-price-whole\">52,500<span class=\"a-price-decimal\">.</span></span>```"
   ]
  },
  {
   "cell_type": "code",
   "execution_count": 44,
   "id": "30cfdad4-1eb0-428f-951a-192237e43a4d",
   "metadata": {},
   "outputs": [
    {
     "data": {
      "text/plain": [
       "'52500'"
      ]
     },
     "execution_count": 44,
     "metadata": {},
     "output_type": "execute_result"
    }
   ],
   "source": [
    "productPrice=soup.find_all('span',class_='a-price-whole')[0]\n",
    "productPrice\n",
    "productPriceText=\"\".join([x for x in f'{productPrice.text}'.strip() if x.isdigit()])\n",
    "productPriceText"
   ]
  },
  {
   "cell_type": "code",
   "execution_count": 51,
   "id": "58e8892c-7e25-466a-985a-2fbaa4802830",
   "metadata": {},
   "outputs": [
    {
     "data": {
      "text/plain": [
       "['Brand',\n",
       " 'Manufacturer',\n",
       " 'Series',\n",
       " 'Colour',\n",
       " 'Item Height',\n",
       " 'Item Width',\n",
       " 'Standing screen display size',\n",
       " 'Screen Resolution',\n",
       " 'Resolution',\n",
       " 'Product Dimensions',\n",
       " 'Item model number',\n",
       " 'Computer Memory Type',\n",
       " 'Number of USB 2.0 Ports',\n",
       " 'Number of USB 3.0 Ports',\n",
       " 'Number of HDMI Ports',\n",
       " 'Are Batteries Included',\n",
       " 'Included Components',\n",
       " 'Manufacturer',\n",
       " 'Country of Origin',\n",
       " 'Item Weight']"
      ]
     },
     "execution_count": 51,
     "metadata": {},
     "output_type": "execute_result"
    }
   ],
   "source": [
    "product_data=soup.find('div',id='prodDetails')\n",
    "product_data\n",
    "table=product_data.find('table')\n",
    "columns=[f\"{x.text}\".strip() for x in table.find_all('th')]\n",
    "columns"
   ]
  },
  {
   "cell_type": "code",
   "execution_count": 65,
   "id": "adf51784-bf5d-4dce-a869-334b213a4b75",
   "metadata": {},
   "outputs": [
    {
     "data": {
      "text/plain": [
       "[{'Brand': '\\u200eBenQ'},\n",
       " {'Manufacturer': '\\u200eBenQ, \\u200eBenQ, BenQ Corporation 16 Jihu Road, Neihu 114, Taipei, Taiwan'},\n",
       " {'Series': '\\u200eBenQ MA Monitor'},\n",
       " {'Colour': '\\u200eGrey'},\n",
       " {'Item Height': '\\u200e49.38 Centimeters'},\n",
       " {'Item Width': '\\u200e71.45 Centimeters'},\n",
       " {'Standing screen display size': '\\u200e31.5 Inches'},\n",
       " {'Screen Resolution': '\\u200e3840 x 2160'},\n",
       " {'Resolution': '\\u200e3840 x 2160 Pixels'},\n",
       " {'Product Dimensions': '\\u200e22.02 x 71.45 x 49.38 cm; 9.1 kg'},\n",
       " {'Item model number': '\\u200eMA320U'},\n",
       " {'Computer Memory Type': '\\u200eDIMM'},\n",
       " {'Number of USB 2.0 Ports': '\\u200e2'},\n",
       " {'Number of USB 3.0 Ports': '\\u200e1'},\n",
       " {'Number of HDMI Ports': '\\u200e2'},\n",
       " {'Are Batteries Included': '\\u200eNo'},\n",
       " {'Included Components': '\\u200eWarranty Card, USB C Cable, 16A Power Cable, HDMI (v2.0)Cable, QSG and Safety Instructions'},\n",
       " {'Manufacturer': '\\u200eBenQ'},\n",
       " {'Country of Origin': '\\u200eChina'},\n",
       " {'Item Weight': '\\u200e9 kg 100 g'}]"
      ]
     },
     "execution_count": 65,
     "metadata": {},
     "output_type": "execute_result"
    }
   ],
   "source": [
    "table_data=[]\n",
    "for i ,row in enumerate(table.find_all('tr')):\n",
    "    cells=row.find_all('td')\n",
    "    row_data = {columns[i]:f'{cell.text}'.strip() for cell in cells}\n",
    "    table_data.append(row_data)\n",
    "table_data\n",
    "    \n",
    "    "
   ]
  },
  {
   "cell_type": "code",
   "execution_count": 95,
   "id": "95f2bf19-c552-448b-bd3d-0c8ca18dc234",
   "metadata": {},
   "outputs": [
    {
     "data": {
      "text/plain": [
       "'B0DF9ZLFTN'"
      ]
     },
     "execution_count": 95,
     "metadata": {},
     "output_type": "execute_result"
    }
   ],
   "source": [
    "\n",
    "product_class=soup.find('table',id=\"productDetails_detailBullets_sections1\")\n",
    "product_th=product_class.find('td',class_=\"a-size-base prodDetAttrValue\")\n",
    "product_th.text.strip()\n"
   ]
  },
  {
   "cell_type": "code",
   "execution_count": 112,
   "id": "a117b733-2635-4479-9400-f07748ac532e",
   "metadata": {},
   "outputs": [
    {
     "data": {
      "text/plain": [
       "'B0DF9ZLFTN'"
      ]
     },
     "execution_count": 112,
     "metadata": {},
     "output_type": "execute_result"
    }
   ],
   "source": [
    "# product_th=product_class.find('div',id=\"averageCustomerReviews\")\n",
    "element_with_attribute=soup.find(lambda tag:tag.has_attr('data-asin'))\n",
    "if element_with_attribute:\n",
    "    data_asin=element_with_attribute['data-asin']\n",
    "data_asin\n"
   ]
  },
  {
   "cell_type": "code",
   "execution_count": 114,
   "id": "7c572d1e-215b-44e3-995e-03b517cc8bd5",
   "metadata": {},
   "outputs": [
    {
     "data": {
      "text/plain": [
       "4.4"
      ]
     },
     "execution_count": 114,
     "metadata": {},
     "output_type": "execute_result"
    }
   ],
   "source": [
    "product_rating_id=soup.find('span',id=\"acrPopover\")\n",
    "rating=product_rating_id.get('title')\n",
    "float(rating.split()[0])\n"
   ]
  },
  {
   "cell_type": "code",
   "execution_count": null,
   "id": "0d9d2d66-6787-40e5-a6ae-e094a386a550",
   "metadata": {},
   "outputs": [],
   "source": []
  },
  {
   "cell_type": "code",
   "execution_count": null,
   "id": "3ced0be1-068a-4b4d-a557-f5c117cf55af",
   "metadata": {},
   "outputs": [],
   "source": []
  }
 ],
 "metadata": {
  "kernelspec": {
   "display_name": "Python 3 (ipykernel)",
   "language": "python",
   "name": "python3"
  },
  "language_info": {
   "codemirror_mode": {
    "name": "ipython",
    "version": 3
   },
   "file_extension": ".py",
   "mimetype": "text/x-python",
   "name": "python",
   "nbconvert_exporter": "python",
   "pygments_lexer": "ipython3",
   "version": "3.11.4"
  }
 },
 "nbformat": 4,
 "nbformat_minor": 5
}
